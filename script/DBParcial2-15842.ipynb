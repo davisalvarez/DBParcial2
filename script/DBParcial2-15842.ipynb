{
 "cells": [
  {
   "cell_type": "markdown",
   "metadata": {},
   "source": [
    "# Examen Parcial 2 -15842"
   ]
  },
  {
   "cell_type": "markdown",
   "metadata": {},
   "source": [
    "## Ejecicio 1: "
   ]
  },
  {
   "cell_type": "markdown",
   "metadata": {},
   "source": [
    "#### a) ¿Qué es una base de datos?\n",
    "\n",
    "Una base de datos es conjunto de información almacenada, de forma relacional o no relacional, que tiene afinidad entre si. Con el fin de poder analizar y/o hacer uso de la información. \n",
    "\n",
    "#### b) Proceso de Normalización\n",
    "\n",
    "El proceso de normalización es el conjunto de reglas que debe cumplir una base de datos relacional, para que se encuentre en el estado optimo. \n",
    "\n",
    "#### c) ¿Cuál es el objetivo principal de la Inteligencia de Negocios? ¿Cómo se relaciona este concepto con el concepto de DataWareHouse?\n",
    "\n",
    "El objetivo principal de la inteligencia de negocios es poder obtener ventajas en el mercado, con el analisis de la información y la utilización de herrmientas tecnologicas. De esta manera tambien, poder ofrecer al usuario final un servicio especializado."
   ]
  },
  {
   "cell_type": "markdown",
   "metadata": {},
   "source": [
    "## Ejecicio 2: "
   ]
  },
  {
   "cell_type": "code",
   "execution_count": 2,
   "metadata": {},
   "outputs": [],
   "source": [
    "## inserte codigo"
   ]
  },
  {
   "cell_type": "markdown",
   "metadata": {},
   "source": [
    "#### a) Implemente el modelo relacional en SQLite."
   ]
  },
  {
   "cell_type": "markdown",
   "metadata": {},
   "source": [
    "#### b) Nombres y créditos de clientes de los compradores de MAJADAS ordenado por crédito descendente y nombre ascendente."
   ]
  },
  {
   "cell_type": "code",
   "execution_count": 3,
   "metadata": {},
   "outputs": [],
   "source": [
    "%%sql select cliente.nombre, cliente.credito \n",
    "from Compra inner join Cliente on Client.idCliente=Compra.idCliente \n",
    "where idTienda=1 group by credito desc, nombre asc"
   ]
  },
  {
   "cell_type": "markdown",
   "metadata": {},
   "source": [
    "#### c) Agregar en el resultado anterior el crédito en dólares a un tipo de cambio de 7.8."
   ]
  },
  {
   "cell_type": "code",
   "execution_count": null,
   "metadata": {},
   "outputs": [],
   "source": [
    "%%sql select cliente.nombre, (cliente.credito/7.8) as CreditoDollar\n",
    "from Compra inner join cliente on client.idCliente=compra.idCliente \n",
    "where idTienda=1 order by credito desc, nombre asc"
   ]
  },
  {
   "cell_type": "markdown",
   "metadata": {},
   "source": [
    "#### d) Parejas de clientes con el mismo crédito que no sean ellos mismos y que no haya parejas duplicadas"
   ]
  },
  {
   "cell_type": "code",
   "execution_count": null,
   "metadata": {},
   "outputs": [],
   "source": [
    "%%sql "
   ]
  },
  {
   "cell_type": "markdown",
   "metadata": {},
   "source": [
    "#### e) Clientes que han comprado en MAJADAS y no en VH"
   ]
  },
  {
   "cell_type": "code",
   "execution_count": null,
   "metadata": {},
   "outputs": [],
   "source": [
    "%%sql select cliente.nombre \n",
    "from Compra inner join Cliente on Client.idCliente=Compra.idCliente \n",
    "where idTienda!=1 and idTienda!=2"
   ]
  },
  {
   "cell_type": "markdown",
   "metadata": {},
   "source": [
    "#### f) Todas las tiendas que tengan otras tiendas en la misma dirección"
   ]
  },
  {
   "cell_type": "code",
   "execution_count": null,
   "metadata": {},
   "outputs": [],
   "source": [
    "%%sql select Tienda.direccion, Tienda.nombre\n",
    "from Tienda\n",
    "group by direccion"
   ]
  },
  {
   "cell_type": "markdown",
   "metadata": {},
   "source": [
    "#### g) Clientes con los créditos más altos (sin utilizar MAX())"
   ]
  },
  {
   "cell_type": "code",
   "execution_count": null,
   "metadata": {},
   "outputs": [],
   "source": [
    "%%sql select cliente.nombre from (\n",
    "    select Cliente.nombre, Cliente.credito\n",
    "        from cliente order by credito desc\n",
    ") "
   ]
  },
  {
   "cell_type": "markdown",
   "metadata": {},
   "source": [
    "#### h) Clientes cuyo crédito en dólares sea mayor a 1"
   ]
  },
  {
   "cell_type": "code",
   "execution_count": null,
   "metadata": {},
   "outputs": [],
   "source": [
    "%%sql select cliente.nombre, (cliente.credito/7.8) as CreditoDollar\n",
    "where CreditoDollar > 1"
   ]
  },
  {
   "cell_type": "markdown",
   "metadata": {},
   "source": [
    "#### i) Personas que no han hecho ninguna compra"
   ]
  },
  {
   "cell_type": "code",
   "execution_count": null,
   "metadata": {},
   "outputs": [],
   "source": [
    "%%sql "
   ]
  },
  {
   "cell_type": "markdown",
   "metadata": {},
   "source": [
    "#### j) Diferencia entre el promedio de crédito de los clientes de MAJADAS y de VH"
   ]
  },
  {
   "cell_type": "code",
   "execution_count": null,
   "metadata": {},
   "outputs": [],
   "source": [
    "%%sql "
   ]
  },
  {
   "cell_type": "markdown",
   "metadata": {},
   "source": [
    "#### k) Número de clientes de cada tienda, de las que tienen compras, ordenado por nombre de tienda."
   ]
  },
  {
   "cell_type": "code",
   "execution_count": null,
   "metadata": {},
   "outputs": [],
   "source": [
    "%%sql select Tienda.nombre, count(Compra.idCliente)\n",
    "from Compra inner joim Tienda on Compra.idTienda = Tienda.idTienda\n",
    "group by Compra.idCliente order by Tienda.nombre Desc"
   ]
  },
  {
   "cell_type": "markdown",
   "metadata": {},
   "source": [
    "#### l) Cree un trigger que considere apropiado para este esquema. Justifique su elección (5)\n",
    "Justificación: Cuando se hace una compra el total no puede ser menor o igual a 0. Ya que no se puede hacer una compra por Q0 o numero negativos. "
   ]
  },
  {
   "cell_type": "code",
   "execution_count": null,
   "metadata": {},
   "outputs": [],
   "source": [
    "%%sql CREATE TRIGGER parcial2 BEFORE INSERT \n",
    "ON Compra\n",
    "BEGIN\n",
    "   INSERT INTO Compra() VALUES (new.ID, datetime('now'));\n",
    "END; "
   ]
  },
  {
   "cell_type": "markdown",
   "metadata": {},
   "source": [
    "#### m) Genere un reporte (vista) que muestre información de ventas a ser utilizado por los gerentes de la tienda. El diseño (columnas y filtros) debe de ser justificado. (5)\n",
    "Justificación: "
   ]
  },
  {
   "cell_type": "code",
   "execution_count": null,
   "metadata": {},
   "outputs": [],
   "source": [
    "%%sql "
   ]
  }
 ],
 "metadata": {
  "kernelspec": {
   "display_name": "Python 3",
   "language": "python",
   "name": "python3"
  },
  "language_info": {
   "codemirror_mode": {
    "name": "ipython",
    "version": 3
   },
   "file_extension": ".py",
   "mimetype": "text/x-python",
   "name": "python",
   "nbconvert_exporter": "python",
   "pygments_lexer": "ipython3",
   "version": "3.7.1"
  }
 },
 "nbformat": 4,
 "nbformat_minor": 2
}
